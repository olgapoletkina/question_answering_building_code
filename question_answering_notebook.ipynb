{
 "cells": [
  {
   "cell_type": "code",
   "execution_count": 49,
   "id": "a5e34113",
   "metadata": {},
   "outputs": [],
   "source": [
    "import pandas as pd\n",
    "import numpy as np\n",
    "\n",
    "import os\n",
    "from IPython.display import display, Markdown\n",
    "import re\n",
    "import json\n",
    "\n",
    "import chromadb\n",
    "from chromadb.config import Settings\n",
    "from chromadb import PersistentClient\n",
    "\n",
    "import torch\n",
    "import torch.nn.functional as F\n",
    "from transformers import AutoTokenizer, AutoModelForSeq2SeqLM\n",
    "from transformers import AutoModelForSequenceClassification, AutoTokenizer\n",
    "from sentence_transformers import SentenceTransformer\n",
    "from chromadb.utils.embedding_functions import SentenceTransformerEmbeddingFunction\n",
    "\n",
    "import openai"
   ]
  },
  {
   "cell_type": "code",
   "execution_count": 50,
   "id": "b575c6f7",
   "metadata": {},
   "outputs": [],
   "source": [
    "from config import TOKEN_HF, OPENAI_API_KEY"
   ]
  },
  {
   "cell_type": "code",
   "execution_count": 51,
   "id": "5af13364",
   "metadata": {},
   "outputs": [],
   "source": [
    "ibc_path = './data/IBC-2018 ICC International Building Code conv_02.txt'\n",
    "\n",
    "with open(ibc_path, 'r') as f:\n",
    "    raw_text = f.read()"
   ]
  },
  {
   "cell_type": "code",
   "execution_count": 52,
   "id": "fd2d8459",
   "metadata": {},
   "outputs": [
    {
     "data": {
      "text/plain": [
       "['[A] 101.1 Title. These regulations shall be known as the Building Code of [NAME OF JUR ISD ICTION ], hereinafter referred to as “this code. ”',\n",
       " '[A] 101.2 Scope. The provisions of this code shall apply to the construction, alteration, relocation, enlargement, replaceno spacement, repair, equipment, use and occupancy, location, mainno spacetenance, removal and demolition of every building or structure or any appurtenances connected or attached to such buildings or structures. Exception: Detached one- and two-family dwellings and townhouses not more than three stories above grade plane in height with a separate means of egress, and their accesno spacesory structures not more than three stories above grade plane in height, shall comply with this code or the Internano spacetional Residential Code.',\n",
       " '[A] 101.2.1 Appendices. Provisions in the appendices shall not apply unless specifically adopted.',\n",
       " '[A] 101.3 Intent. The purpose of this code is to establish the minimum requirements to provide a reasonable level of safety, public health and general welfare through structural strength, means of egress facilities, s tability, sanitation, adeno spacequate light and ventilation, energy conservation, and safety to life and property from fire, explosion and other hazards, and to provide a reasonable level of safety to fire fighters and emergency responders during emergency operations.',\n",
       " '[A] 101.4 Referenced codes. The other codes listed in Secno spacetions 101.4.1 through 101.4.7 and referenced elsewhere in this code shall be considered to be part of the requirements of this code to the prescribed extent of each such reference.']"
      ]
     },
     "execution_count": 52,
     "metadata": {},
     "output_type": "execute_result"
    }
   ],
   "source": [
    "# start reading doc from a line\n",
    "start_marker = '[A] 101 .1 Title. These regulations shall be known as'\n",
    "start_index = raw_text.find(start_marker)\n",
    "if start_index == -1:\n",
    "    raise ValueError(\"Start marker not found in the text.\")\n",
    "text = raw_text[start_index:]\n",
    "\n",
    "# remove nozy lines\n",
    "lines = text.splitlines()\n",
    "cleaned_lines = []\n",
    "for line in lines:\n",
    "    if 'EDUFIRE.IR' in line or 'Telegram EDUFIRE_IR' in line:\n",
    "        continue\n",
    "    if line.isupper() and re.search(r'\\b[A-Z]{2,} [A-Z]{2,}', line):\n",
    "        continue\n",
    "    cleaned_lines.append(line)\n",
    "\n",
    "cleaned_text = '\\n'.join(cleaned_lines)\n",
    "\n",
    "# clean: [BF ] 1705 .14 .4 .3 → [BF] 1705.14.4.3\n",
    "cleaned_text = re.sub(\n",
    "    r'\\[([A-Z]{1,5})\\s*\\]\\s*(\\d+)\\s*((?:\\.\\s*\\d+)+)',\n",
    "    lambda m: f\"[{m.group(1)}] {m.group(2)}\" + ''.join(f\".{num}\" for num in re.findall(r'\\d+', m.group(3))),\n",
    "    cleaned_text\n",
    ")\n",
    "\n",
    "# normalisation: [F] FIRE ALARM SYSTEM → [F] Fire Alarm System\n",
    "cleaned_text = re.sub(\n",
    "    r'(\\[[A-Z]{1,5}\\])\\s+([A-Z][A-Z ]{3,})',\n",
    "    lambda m: f\"{m.group(1)} {m.group(2).title()}\",\n",
    "    cleaned_text\n",
    ")\n",
    "\n",
    "# remove artifacts\n",
    "cleaned_text = cleaned_text.replace('?', 'no space')\n",
    "\n",
    "# remove white spaces\n",
    "cleaned_text = re.sub(r'(?<=\\d)\\s+(?=\\d)', '', cleaned_text)       # 415. 11 → 415.11\n",
    "cleaned_text = re.sub(r'(?<=\\.)\\s+(?=\\d)', '', cleaned_text)       # . 1 → .1\n",
    "cleaned_text = re.sub(r'(?<=\\d)\\s+\\.(?=\\d)', r'.', cleaned_text)   # 1 .3 → 1.3\n",
    "\n",
    "# cut to paragraphs\n",
    "paragraphs = re.split(\n",
    "    r'(?=\\[[A-Z]{1,5}\\](?: \\d+\\.\\d+(?:\\.\\d+)*)'\n",
    "    r'|(?<=\\]) [A-Z][a-z]+(?: [A-Z][a-z]+)*'\n",
    "    r'|\\n\\d+\\.\\d+(?:\\.\\d+)+)',\n",
    "    cleaned_text\n",
    ")\n",
    "\n",
    "paragraphs = [p.strip() for p in paragraphs if len(p.strip()) > 10]\n",
    "\n",
    "# join paragraph lines\n",
    "joined_paragraphs = []\n",
    "for para in paragraphs:\n",
    "    lines = para.splitlines()\n",
    "    joined = ' '.join(line.strip() for line in lines)\n",
    "    joined = re.sub(r'\\s+([.,:;!?])', r'\\1', joined)\n",
    "    joined_paragraphs.append(joined)\n",
    "\n",
    "joined_paragraphs[:5]\n"
   ]
  },
  {
   "cell_type": "code",
   "execution_count": 53,
   "id": "e6a65305",
   "metadata": {},
   "outputs": [],
   "source": [
    "# split large paragraphs to smaller ones\n",
    "def split_large_paragraph(para: str, max_length: int = 1000):\n",
    "    if len(para) <= max_length:\n",
    "        return [para]\n",
    "\n",
    "    sentences = re.split(r'(?<=[.!?])\\s+', para)\n",
    "    chunks = []\n",
    "    buffer = \"\"\n",
    "\n",
    "    for sentence in sentences:\n",
    "        if len(buffer) + len(sentence) + 1 <= max_length:\n",
    "            buffer += sentence + \" \"\n",
    "        else:\n",
    "            if buffer:\n",
    "                chunks.append(buffer.strip())\n",
    "            buffer = sentence + \" \"\n",
    "    \n",
    "    if buffer:\n",
    "        chunks.append(buffer.strip())\n",
    "\n",
    "    return chunks"
   ]
  },
  {
   "cell_type": "code",
   "execution_count": 54,
   "id": "ee808cc4",
   "metadata": {},
   "outputs": [],
   "source": [
    "structured_paragraphs = []\n",
    "last_prefix = None\n",
    "\n",
    "for para in joined_paragraphs:\n",
    "    numeric_match = re.search(r'\\[([A-Z]{1,4})\\]\\s*(\\d+(?:\\.\\d+)*)', para)\n",
    "    header_match = re.match(r'\\[([A-Z]{1,4})\\]\\s+([A-Z][a-z]+(?: [A-Z][a-z]+)*)', para)\n",
    "    bare_match = re.match(r'^(\\d+(?:\\.\\d+)+)', para)\n",
    "    number_only = re.fullmatch(r'\\d+(\\.\\d+)+\\.?', para.strip())\n",
    "\n",
    "    if number_only:\n",
    "        continue\n",
    "\n",
    "    if numeric_match:\n",
    "        letter = numeric_match.group(1)\n",
    "        numbers = numeric_match.group(2) # Keep the original numbers with dots\n",
    "        index = f\"[{letter}]{numbers}\"   # Add square brackets\n",
    "        last_prefix = letter\n",
    "        structured_paragraphs.append((index, para, True))\n",
    "    elif header_match:\n",
    "        letter = header_match.group(1)\n",
    "        title = header_match.group(2).strip().lower().replace(' ', '_')\n",
    "        index = f\"[{letter}]_{title}\" # Add square brackets to the letter\n",
    "        last_prefix = letter\n",
    "        structured_paragraphs.append((index, para, True))\n",
    "    elif bare_match:\n",
    "        numbers = bare_match.group(1) # Keep the original numbers with dots\n",
    "        letter = last_prefix if last_prefix else 'NOLETTER'\n",
    "        index = f\"[{letter}]{numbers}\" # Add square brackets\n",
    "        structured_paragraphs.append((index, para, True))\n",
    "    else:\n",
    "        structured_paragraphs.append((None, para, False))"
   ]
  },
  {
   "cell_type": "code",
   "execution_count": 55,
   "id": "12f6daec",
   "metadata": {},
   "outputs": [
    {
     "data": {
      "text/plain": [
       "[('[A]101.1',\n",
       "  '[A] 101.1 Title. These regulations shall be known as the Building Code of [NAME OF JUR ISD ICTION ], hereinafter referred to as “this code. ”',\n",
       "  True),\n",
       " ('[A]101.2',\n",
       "  '[A] 101.2 Scope. The provisions of this code shall apply to the construction, alteration, relocation, enlargement, replaceno spacement, repair, equipment, use and occupancy, location, mainno spacetenance, removal and demolition of every building or structure or any appurtenances connected or attached to such buildings or structures. Exception: Detached one- and two-family dwellings and townhouses not more than three stories above grade plane in height with a separate means of egress, and their accesno spacesory structures not more than three stories above grade plane in height, shall comply with this code or the Internano spacetional Residential Code.',\n",
       "  True),\n",
       " ('[A]101.2.1',\n",
       "  '[A] 101.2.1 Appendices. Provisions in the appendices shall not apply unless specifically adopted.',\n",
       "  True),\n",
       " ('[A]101.3',\n",
       "  '[A] 101.3 Intent. The purpose of this code is to establish the minimum requirements to provide a reasonable level of safety, public health and general welfare through structural strength, means of egress facilities, s tability, sanitation, adeno spacequate light and ventilation, energy conservation, and safety to life and property from fire, explosion and other hazards, and to provide a reasonable level of safety to fire fighters and emergency responders during emergency operations.',\n",
       "  True),\n",
       " ('[A]101.4',\n",
       "  '[A] 101.4 Referenced codes. The other codes listed in Secno spacetions 101.4.1 through 101.4.7 and referenced elsewhere in this code shall be considered to be part of the requirements of this code to the prescribed extent of each such reference.',\n",
       "  True)]"
      ]
     },
     "execution_count": 55,
     "metadata": {},
     "output_type": "execute_result"
    }
   ],
   "source": [
    "structured_paragraphs[:5]"
   ]
  },
  {
   "cell_type": "code",
   "execution_count": 56,
   "id": "7028d075",
   "metadata": {},
   "outputs": [
    {
     "name": "stdout",
     "output_type": "stream",
     "text": [
      "total paragraphs indexed: 4685\n",
      "[A]101.1:\n",
      "[A] 101.1 Title. These regulations shall be known as the Building Code of [NAME OF JUR ISD ICTION ], hereinafter referred to as “this code. ”\n",
      "\n",
      "[A]101.2:\n",
      "[A] 101.2 Scope. The provisions of this code shall apply to the construction, alteration, relocation, enlargement, replaceno spacement, repair, equipment, use and occupancy, location, mainno spacetenance, removal and demolition of every building or structure or any appurtenances connected or attached to such buildings or structures. Exception: Detached one- and two-family dwellings and townhouses not more than three stories above grade plane in height with a separate means of egress, and their accesno spacesory structures not more than three stories above grade plane in height, shall comply with this code or the Internano spacetional Residential Code.\n",
      "\n",
      "[A]101.2.1:\n",
      "[A] 101.2.1 Appendices. Provisions in the appendices shall not apply unless specifically adopted.\n",
      "\n",
      "[A]101.3:\n",
      "[A] 101.3 Intent. The purpose of this code is to establish the minimum requirements to provide a reasonable level of safety, public health and general welfare through structural strength, means of egress facilities, s tability, sanitation, adeno spacequate light and ventilation, energy conservation, and safety to life and property from fire, explosion and other hazards, and to provide a reasonable level of safety to fire fighters and emergency responders during emergency operations.\n",
      "\n",
      "[A]101.4:\n",
      "[A] 101.4 Referenced codes. The other codes listed in Secno spacetions 101.4.1 through 101.4.7 and referenced elsewhere in this code shall be considered to be part of the requirements of this code to the prescribed extent of each such reference.\n",
      "\n"
     ]
    }
   ],
   "source": [
    "# index generation\n",
    "indexed_dict = {}\n",
    "unindexed_count = 0\n",
    "last_index = None\n",
    "suffix_counter = {}\n",
    "\n",
    "for index, para, is_indexed in structured_paragraphs:\n",
    "    chunks = split_large_paragraph(para)\n",
    "    if is_indexed:\n",
    "        last_index = index\n",
    "        suffix_counter[last_index] = 0\n",
    "        for i, chunk in enumerate(chunks, start=1):\n",
    "            chunk_index = f\"{index}_{i}\" if len(chunks) > 1 else index\n",
    "            while chunk_index in indexed_dict:\n",
    "                chunk_index += \"_dup\"\n",
    "            indexed_dict[chunk_index] = chunk\n",
    "    else:\n",
    "        if last_index:\n",
    "            suffix_counter[last_index] += 1\n",
    "            new_index = f\"{last_index}_{chr(96 + suffix_counter[last_index])}\"\n",
    "            indexed_dict[new_index] = para\n",
    "        else:\n",
    "            fallback_index = f\"UNINDEXED_{unindexed_count}\"\n",
    "            indexed_dict[fallback_index] = para\n",
    "            unindexed_count += 1\n",
    "\n",
    "with open('./data/ibc_fully_indexed.json', 'w', encoding='utf-8') as f:\n",
    "    json.dump(indexed_dict, f, indent=2, ensure_ascii=False)\n",
    "\n",
    "print(f\"total paragraphs indexed: {len(indexed_dict)}\")\n",
    "for k in list(indexed_dict.keys())[:5]:\n",
    "    print(f\"{k}:\\n{indexed_dict[k]}\\n\")"
   ]
  },
  {
   "cell_type": "code",
   "execution_count": 57,
   "id": "3ac8a323",
   "metadata": {},
   "outputs": [
    {
     "data": {
      "text/plain": [
       "'[A] 101.4 Referenced codes. The other codes listed in Secno spacetions 101.4.1 through 101.4.7 and referenced elsewhere in this code shall be considered to be part of the requirements of this code to the prescribed extent of each such reference.'"
      ]
     },
     "execution_count": 57,
     "metadata": {},
     "output_type": "execute_result"
    }
   ],
   "source": [
    "indexed_dict['[A]101.4']"
   ]
  },
  {
   "cell_type": "code",
   "execution_count": 58,
   "id": "6ce3e5b5",
   "metadata": {},
   "outputs": [
    {
     "name": "stdout",
     "output_type": "stream",
     "text": [
      "4685 loaded paragraphs to 'ibc_2018'.\n"
     ]
    }
   ],
   "source": [
    "# prepare docs\n",
    "documents = list(indexed_dict.values())\n",
    "ids = [f\"ibc_{k}\" for k in indexed_dict.keys()]\n",
    "metadatas = [{\"index\": k} for k in indexed_dict.keys()]\n",
    "\n",
    "# SentenceTransformer\n",
    "model = SentenceTransformer(\"all-MiniLM-L6-v2\")\n",
    "embedding_function = SentenceTransformerEmbeddingFunction(model_name=\"all-MiniLM-L6-v2\")\n",
    "\n",
    "# connect to ChromaDB\n",
    "client = PersistentClient(path=\"./data_base/chroma_db_ibc_04\")\n",
    "\n",
    "collection = client.get_or_create_collection(\n",
    "    name=\"ibc_2018\",\n",
    "    embedding_function=embedding_function\n",
    ")\n",
    "\n",
    "# add collection\n",
    "collection.add(\n",
    "    documents=documents,\n",
    "    metadatas=metadatas,\n",
    "    ids=ids\n",
    ")\n",
    "\n",
    "print(f\"{len(documents)} loaded paragraphs to 'ibc_2018'.\")"
   ]
  },
  {
   "cell_type": "code",
   "execution_count": 59,
   "id": "7b8f4083",
   "metadata": {},
   "outputs": [],
   "source": [
    "def search_ibc(query: str, top_k: int = 10):\n",
    "    results = collection.query(\n",
    "        query_texts=[query],\n",
    "        n_results=top_k\n",
    "    )\n",
    "\n",
    "    docs = results[\"documents\"][0]\n",
    "    metas = results[\"metadatas\"][0]\n",
    "    ids = results[\"ids\"][0]\n",
    "    distances = results.get(\"distances\", [[None]*top_k])[0]\n",
    "\n",
    "    for i, (doc, meta, id_, dist) in enumerate(zip(docs, metas, ids, distances)):\n",
    "        # the less distance — the closer result (from 0 to 1)\n",
    "        closeness = 1 - dist if dist is not None else 0\n",
    "        bar_length = int(closeness * 20)\n",
    "        bar = '█' * bar_length + '░' * (20 - bar_length)\n",
    "\n",
    "        print(f\"=== Result {i+1}:\")\n",
    "        # print(f\"Index: {meta.get('index', 'unknown')}\")\n",
    "        print(f\"ID: {id_}\")\n",
    "        print(f\"distance: {dist:.3f} | closeness: {closeness:.3f} {bar}\")\n",
    "        print(doc.strip())\n",
    "        print(len(doc))\n",
    "        print(\"-\" * 80)"
   ]
  },
  {
   "cell_type": "code",
   "execution_count": 60,
   "id": "401c0e7d",
   "metadata": {},
   "outputs": [
    {
     "name": "stdout",
     "output_type": "stream",
     "text": [
      "=== Result 1:\n",
      "ID: ibc_[F]903.3.1.1_8_dup\n",
      "distance: 0.565 | closeness: 0.435 ████████░░░░░░░░░░░░\n",
      "In Group I-3, door openings to resident sleeping units that are not required to be an Accessible unit shall have a minimum clear opening w idth of 28 inches (711 mm).3. Door openings to storage closets less than 10 square feet (0.93 m 2 ) in area shall not be limited by the minimum clear opening width.4. The width of door leaves in revolving doors that comply with S ection 1010.1.4.1 shall not be limited.5. The maximum width of door leaves in powerno spaceoperated doors that comply with S ection\n",
      "500\n",
      "--------------------------------------------------------------------------------\n",
      "=== Result 2:\n",
      "ID: ibc_[F]1010.1.4.2_1\n",
      "distance: 0.598 | closeness: 0.402 ████████░░░░░░░░░░░░\n",
      "1010.1.4.2 shall not be limited.6. Door openings within a dwelling unit or sleepno spaceing unit shall have a minimum clear opening height of 78 inches (1981 mm).7. In dwelling and sleeping units that are not required to be Accessible, Type A or Type B units, exterior door openings other than the required exit door shall have a minimum clear opening height of 76 inches (1930 mm).8. In Groups I-1, R-2, R-3 and R-4, in dwelling and sleeping units that are not required to be Accessible, Type A or Type B units, the minino spacemum clear opening widths shall not apply to interior egress doors.9. Door openings required to be accessible within Type B units intended for user passage shall have a minimum clear opening width of 31.75 inches (806 mm).10. Doors to walk- in freezers and coolers less than 1,000 square feet (93 m 2 ) in area shall have a maximum width of 60 inches (1524 mm) nomino spacenal. ® 26911.\n",
      "914\n",
      "--------------------------------------------------------------------------------\n",
      "=== Result 3:\n",
      "ID: ibc_[F]903.3.1.1_7_dup\n",
      "distance: 0.632 | closeness: 0.368 ███████░░░░░░░░░░░░░\n",
      "The clear opening width of doorno spaceways with swinging doors shall be measured between the face of the door and the stop, with the door open 90 degrees (1.57 rad). Where this section requires a minimum clear opening width of 32 inches (813 mm) and a door opening includes two door leaves without a mullion, one leaf shall provide a minimum clear opening width of 32 inches (813 mm). In Group I-2, doors serving as means of egress doors where used for the movement of beds shall provide a minimum clear opening width of 411 / 2 inches (1054 mm). The maximum width of a swinging door leaf shall be 48 inches (1219 mm) nominal. The minimum clear opening height of doors shall be not less than 80 inches (2032 mm). Exceptions: 1. In Group R-2 and R-3 dwelling and sleeping units that are not required to be an Accessible unit, Type A unit or Type B unit, the minimum and maximum width shall not apply to door openings that are not part of the required means of egress.2.\n",
      "969\n",
      "--------------------------------------------------------------------------------\n",
      "=== Result 4:\n",
      "ID: ibc_[F]1010.1.4.2_2\n",
      "distance: 0.680 | closeness: 0.320 ██████░░░░░░░░░░░░░░\n",
      "The minimum clear opening w idth shall not apply to doors for nonaccessible shower or sauna compartments.12. The minimum clear opening w idth shall not apply to the doors for nonaccessible toilet stalls.1010.1.1.1 Projections into clear width. There shall not be proj ections into the required clear opening width lower than 34 inches (864 mm) above the floor or ground. Proj ections into the clear opening width between 34 inches (864 mm) and 80 inches (2032 mm) above the floor or ground shall not exceed 4 inches (102 mm). Exception: Door closers and door stops shall be permitted to be 78 inches (1980 mm) minimum above the floor.1010.1.2 Door swing. Egress doors shall be of the pivoted or side-hinged swinging type. Exceptions: 1. Private garages, office areas, factory and storage areas with an occupant load of 10 or less.2. Group I-3 occupancies used as a place of detenno spacetion.3. Critical or intensive care patient rooms within suites of health care facilities.4.\n",
      "978\n",
      "--------------------------------------------------------------------------------\n",
      "=== Result 5:\n",
      "ID: ibc_[F]1010.1.5_1\n",
      "distance: 0.738 | closeness: 0.262 █████░░░░░░░░░░░░░░░\n",
      "1010.1.5 permits a 4- inch (102 mm) elevation change at the door, the threshold height on the exterior side of the door shall not exceed 43 / 4 inches (120 mm) in height above the exterior deck, patio or balcony for sliding doors or 41 / 2 inches (114 mm) above the exterior deck, patio or balcony for other doors.1010.1.8 Door arrangement. Space between two doors in a series shall be 48 inches (1219 mm) minimum plus the w idth of a door swinging into the space. Doors in a series shall swing either in the same direction or away from the space between the doors. Exceptions: 1. The minimum distance between horizontal s lidno spaceing power-operated doors in a series shall be 48 inches (1219 mm).2. S torm and screen doors serving individual dwellno spaceing units in Groups R-2 and R-3 need not be spaced 48 inches (1219 mm) from the other door.3. Doors within individual dwelling units in Groups R-2 and R-3 other than within Type A dwelling units.1010.1.9 Door operations.\n",
      "979\n",
      "--------------------------------------------------------------------------------\n",
      "=== Result 6:\n",
      "ID: ibc_[F]1103.2.9_2\n",
      "distance: 0.832 | closeness: 0.168 ███░░░░░░░░░░░░░░░░░\n",
      "Thresholds at doorways shall not exceed 3 / 4 inch (19.1 mm) in height above the finished floor or landing for sliding doors serving dwelling units or 1 / 2 inch (12.7 mm) above the finished floor or landing for other doors. Raised thresholds and floor level changes greater than 1 / 4 inch (6.4 mm) at doorways shall be beveled w ith a slope not greater than one unit vertical in two units horizontal (50-percent slope). Exceptions: 1. In occupancy Group R-2 or R-3, threshold heights for s liding and side-hinged exterior doors shall be permitted to be up to 73 / 4 inches (197 mm) in height if all of the follow ing apply: 1.1. The door is not part of the required means of egress.1.2. The door is not part of an accessible route as required by Chapter 11.1.3. The door is not part of an Accessible unit, Type A unit or Type B unit.2. In Type B units, where Exception 5 to S ection\n",
      "884\n",
      "--------------------------------------------------------------------------------\n",
      "=== Result 7:\n",
      "ID: ibc_[F]1029.6.3_2_dup\n",
      "distance: 0.837 | closeness: 0.163 ███░░░░░░░░░░░░░░░░░\n",
      "Where the means of egress from stories above and below converge at an intermediate level, the capacity of the means of egress from the point of convergence shall be not less than the largest minimum width or the sum of the required capacities for the stairways or ramps serving the two adj acent s tories, whichever is larger.1005.7 Encroachment. Encroachments into the required means of egress width shall be in accordance with the provino spacesions of this section.1005.7.1 Doors. Doors, when fully opened, shall not reduce the required width by more than 7 inches (178 mm). Doors in any pos ition shall not reduce the required width by more than one-half. Exceptions: 1. Surface-mounted latch release hardware shall be exempt from inclusion in the 7 - inch maximum (178 mm) encroachment where both of the folno spacelowing conditions exist: 1.1. The hardware is mounted to the s ide of the door facing away from the adj acent wall where the door is in the open pos ino spacetion.1.2.\n",
      "987\n",
      "--------------------------------------------------------------------------------\n",
      "=== Result 8:\n",
      "ID: ibc_[F]1010.1.5_2\n",
      "distance: 0.852 | closeness: 0.148 ██░░░░░░░░░░░░░░░░░░\n",
      "Except as specifically permitno spaceted by this section, egress doors shall be readily openable from the egress s ide without the use of a key or special knowledge or effort.1010.1.9.1 Hardware. Door handles, pulls, latches, locks and other operating devices on doors required to be accessible by Chapter 11 shall not require tight grasping, tight pinching or twisting of the wrist to operno spaceate.1010.1.9.2 Hardware height. Door handles, pulls, latches, locks and other operating devices shall be installed 34 inches (864 mm) minimum and 48 inches (1219 mm) maximum above the finished floor. Locks used only for security purposes and not used for normal operation are permitted at any height.\n",
      "698\n",
      "--------------------------------------------------------------------------------\n",
      "=== Result 9:\n",
      "ID: ibc_[F]2406.1.2_4\n",
      "distance: 0.901 | closeness: 0.099 █░░░░░░░░░░░░░░░░░░░\n",
      "Glazing in an indino spacevidual fixed or operable panel adj acent to a door where the nearest vertical edge of the glazing is within a 24- inch (610 mm) arc of either vertical edge of the door in a closed position and where the bottom exposed edge of the glazing is less than 60 inches (1524 mm) above the walking surno spaceface shall be considered to be a hazardous location. Exceptions: 1. Decorative glazing.2. Where there is an intervening wall or other perno spacemanent barrier between the door and glazing.3. Where access through the door is to a closet or storno spaceage area 3 feet (914 mm) or less in depth. Glazing in this application shall comply with S ection\n",
      "675\n",
      "--------------------------------------------------------------------------------\n",
      "=== Result 10:\n",
      "ID: ibc_[F]1010.1.4.2.8_2\n",
      "distance: 0.901 | closeness: 0.099 █░░░░░░░░░░░░░░░░░░░\n",
      "The door shall be set in motion when subj ected to a 30-pound (133 N) force. The door shall swing to a full-open pos ition when sub j ected to a 15 - pound (67 N) force.1010.1.3.1 Location of app lied forces. Forces shall be applied to the latch s ide of the door.1010.1.4 Special doors. Special doors and security grilles shall comply with the requirements of Sections 1010.1.4.1 through 1010.1.4.5.1010.1.4.1 Revolving doors. Revolving doors shall comply with the following: 1. Revolving doors shall comply with BHMA A156.27 and shall be installed in accordance with the manufacturer’ s instructions.2. Each revolving door shall be capable of breakout in accordance with BHMA A156.27 and shall provide an aggregate width of not less than 36 inches (914 mm).3. A revolving door shall not be located within 10 feet (3048 mm) of the foot or top of stairways or escalators. A dispersal area shall be provided between the stairways or escalators and the revolving doors.4.\n",
      "969\n",
      "--------------------------------------------------------------------------------\n"
     ]
    }
   ],
   "source": [
    "search_ibc(\"what is the minimum door width in apartment\")"
   ]
  },
  {
   "cell_type": "code",
   "execution_count": 61,
   "id": "f932ee75",
   "metadata": {},
   "outputs": [],
   "source": [
    "reranker_model_name = \"cross-encoder/ms-marco-MiniLM-L6-v2\"\n",
    "reranker_tokenizer = AutoTokenizer.from_pretrained(reranker_model_name, use_auth_token=TOKEN_HF)\n",
    "reranker_model = AutoModelForSequenceClassification.from_pretrained(reranker_model_name, use_auth_token=TOKEN_HF)"
   ]
  },
  {
   "cell_type": "code",
   "execution_count": 62,
   "id": "65695917",
   "metadata": {},
   "outputs": [],
   "source": [
    "# adjust search function for the use in LLM \n",
    "def search_ibc(query: str, top_k: int = 10):\n",
    "    results = collection.query(query_texts=[query], n_results=top_k)\n",
    "    \n",
    "    docs = results[\"documents\"][0]\n",
    "    metas = results[\"metadatas\"][0]\n",
    "    ids = results[\"ids\"][0]\n",
    "    distances = results.get(\"distances\", [[None]*top_k])[0]\n",
    "\n",
    "    final_results = []\n",
    "    for doc, meta, id_, dist in zip(docs, metas, ids, distances):\n",
    "        index = meta.get(\"index\", \"unknown\")\n",
    "        final_results.append({\n",
    "            \"text\": doc,\n",
    "            \"index\": index,\n",
    "            \"score\": 1 - dist if dist is not None else None\n",
    "        })\n",
    "\n",
    "    return final_results"
   ]
  },
  {
   "cell_type": "code",
   "execution_count": 63,
   "id": "f5212395",
   "metadata": {},
   "outputs": [],
   "source": [
    "openai.api_key = OPENAI_API_KEY"
   ]
  },
  {
   "cell_type": "code",
   "execution_count": 64,
   "id": "73024971",
   "metadata": {},
   "outputs": [],
   "source": [
    "# using open ai\n",
    "def generate_ibc_answer_gpt4(query: str, top_k: int = 5):\n",
    "    results = search_ibc(query, top_k=top_k)\n",
    "\n",
    "    context = \"\"\n",
    "    for r in results:\n",
    "        context += f\"(§{r['index']}) {r['text']}\\n\\n\"\n",
    "\n",
    "    prompt = f\"\"\"\n",
    "You are a helpful assistant that answers questions using the context from the International Building Code (IBC).\n",
    "\n",
    "Context:\n",
    "{context}\n",
    "\n",
    "Question:\n",
    "{query}\n",
    "\n",
    "Answer in a clear and human-friendly way. Use complete sentences and cite section numbers where appropriate (e.g., \"according to §A1012\").\n",
    "\"\"\"\n",
    "\n",
    "    response = openai.ChatCompletion.create(\n",
    "        model=\"gpt-4\",\n",
    "        messages=[\n",
    "            {\"role\": \"system\", \"content\": \"You are a helpful assistant that explains building code requirements clearly.\"},\n",
    "            {\"role\": \"user\", \"content\": prompt}\n",
    "        ],\n",
    "        temperature=0.1,\n",
    "        max_tokens=600\n",
    "    )\n",
    "\n",
    "    return response[\"choices\"][0][\"message\"][\"content\"].strip()"
   ]
  },
  {
   "cell_type": "code",
   "execution_count": 65,
   "id": "9e7cfdab",
   "metadata": {},
   "outputs": [
    {
     "data": {
      "text/markdown": [
       "The minimum corridor width in apartment buildings, according to the International Building Code, depends on the specific occupancy group and other factors. However, as a general rule, the IBC requires a minimum corridor width of 44 inches (1118 mm) for egress purposes (§[F]1029.16.3_15). This width must be maintained and lead directly from the area to the exit without obstructions. \n",
       "\n",
       "For service corridors, the clear width should be not less than 5 feet (1524 mm), or 33 inches (838 mm) wider than the widest cart or truck used in the service corridor, whichever is greater (§[F]415.11.3.4).\n",
       "\n",
       "In Group I-2, Condition 1 occupancies, where the corridor width is not less than 96 inches (2440 mm), projections for furniture are permitted under certain conditions (§[F]710.407.3.1_3).\n",
       "\n",
       "Please note that these are general guidelines and specific requirements may vary based on the building's design, use, and local amendments to the IBC. Always consult with a local building official or a qualified architect or engineer to ensure compliance with all applicable building codes."
      ],
      "text/plain": [
       "<IPython.core.display.Markdown object>"
      ]
     },
     "metadata": {},
     "output_type": "display_data"
    }
   ],
   "source": [
    "answer = generate_ibc_answer_gpt4(\"minimum corridor width in apartment buildings\", top_k=10)\n",
    "display(Markdown(answer))"
   ]
  },
  {
   "cell_type": "code",
   "execution_count": 66,
   "id": "0915badd",
   "metadata": {},
   "outputs": [
    {
     "data": {
      "text/markdown": [
       "The minimum door width in an apartment, according to the International Building Code, depends on the specific use of the door. \n",
       "\n",
       "For general door openings within a dwelling unit or sleeping unit, the minimum clear opening width is not specified unless the unit is required to be Accessible, Type A or Type B. In those cases, door openings required to be accessible within Type B units intended for user passage should have a minimum clear opening width of 31.75 inches (806 mm) as per §[F]903.3.1.1_8_dup.\n",
       "\n",
       "However, for doorways with swinging doors, the clear opening width should be measured between the face of the door and the stop, with the door open 90 degrees. Where a minimum clear opening width of 32 inches (813 mm) is required and a door opening includes two door leaves without a mullion, one leaf should provide a minimum clear opening width of 32 inches (813 mm) as per §[F]903.3.1.1_7_dup.\n",
       "\n",
       "Please note that these are general guidelines and specific requirements may vary based on the specific design and use of the apartment. Always consult with a professional or local building authority to ensure compliance with all applicable building codes."
      ],
      "text/plain": [
       "<IPython.core.display.Markdown object>"
      ]
     },
     "metadata": {},
     "output_type": "display_data"
    }
   ],
   "source": [
    "answer = generate_ibc_answer_gpt4(\"what is the minimum door width in apartment\", top_k=10)\n",
    "display(Markdown(answer))"
   ]
  },
  {
   "cell_type": "code",
   "execution_count": 67,
   "id": "93045992",
   "metadata": {},
   "outputs": [
    {
     "data": {
      "text/plain": [
       "BertForSequenceClassification(\n",
       "  (bert): BertModel(\n",
       "    (embeddings): BertEmbeddings(\n",
       "      (word_embeddings): Embedding(30522, 384, padding_idx=0)\n",
       "      (position_embeddings): Embedding(512, 384)\n",
       "      (token_type_embeddings): Embedding(2, 384)\n",
       "      (LayerNorm): LayerNorm((384,), eps=1e-12, elementwise_affine=True)\n",
       "      (dropout): Dropout(p=0.1, inplace=False)\n",
       "    )\n",
       "    (encoder): BertEncoder(\n",
       "      (layer): ModuleList(\n",
       "        (0-5): 6 x BertLayer(\n",
       "          (attention): BertAttention(\n",
       "            (self): BertSelfAttention(\n",
       "              (query): Linear(in_features=384, out_features=384, bias=True)\n",
       "              (key): Linear(in_features=384, out_features=384, bias=True)\n",
       "              (value): Linear(in_features=384, out_features=384, bias=True)\n",
       "              (dropout): Dropout(p=0.1, inplace=False)\n",
       "            )\n",
       "            (output): BertSelfOutput(\n",
       "              (dense): Linear(in_features=384, out_features=384, bias=True)\n",
       "              (LayerNorm): LayerNorm((384,), eps=1e-12, elementwise_affine=True)\n",
       "              (dropout): Dropout(p=0.1, inplace=False)\n",
       "            )\n",
       "          )\n",
       "          (intermediate): BertIntermediate(\n",
       "            (dense): Linear(in_features=384, out_features=1536, bias=True)\n",
       "            (intermediate_act_fn): GELUActivation()\n",
       "          )\n",
       "          (output): BertOutput(\n",
       "            (dense): Linear(in_features=1536, out_features=384, bias=True)\n",
       "            (LayerNorm): LayerNorm((384,), eps=1e-12, elementwise_affine=True)\n",
       "            (dropout): Dropout(p=0.1, inplace=False)\n",
       "          )\n",
       "        )\n",
       "      )\n",
       "    )\n",
       "    (pooler): BertPooler(\n",
       "      (dense): Linear(in_features=384, out_features=384, bias=True)\n",
       "      (activation): Tanh()\n",
       "    )\n",
       "  )\n",
       "  (dropout): Dropout(p=0.1, inplace=False)\n",
       "  (classifier): Linear(in_features=384, out_features=1, bias=True)\n",
       ")"
      ]
     },
     "execution_count": 67,
     "metadata": {},
     "output_type": "execute_result"
    }
   ],
   "source": [
    "# option with rerank\n",
    "reranker_model_name = \"cross-encoder/ms-marco-MiniLM-L6-v2\"\n",
    "reranker_tokenizer = AutoTokenizer.from_pretrained(reranker_model_name, use_auth_token=TOKEN_HF)\n",
    "reranker_model = AutoModelForSequenceClassification.from_pretrained(reranker_model_name, use_auth_token=TOKEN_HF)\n",
    "reranker_model.eval()\n",
    "device = torch.device(\"cuda\" if torch.cuda.is_available() else \"cpu\")\n",
    "reranker_model.to(device)"
   ]
  },
  {
   "cell_type": "code",
   "execution_count": 68,
   "id": "e71d0d49",
   "metadata": {},
   "outputs": [],
   "source": [
    "def rerank(query: str, docs: list[str], top_k: int = 5) -> list[tuple[str, float]]:\n",
    "    pairs = [(query, doc) for doc in docs]\n",
    "    \n",
    "    with torch.no_grad():\n",
    "        inputs = reranker_tokenizer(\n",
    "            [q for q, d in pairs],\n",
    "            [d for q, d in pairs],\n",
    "            padding=True,\n",
    "            truncation=True,\n",
    "            return_tensors=\"pt\"\n",
    "        ).to(device)\n",
    "\n",
    "        logits = reranker_model(**inputs).logits\n",
    "        scores = logits.squeeze(-1)  # [batch] instead of [batch, 1]\n",
    "\n",
    "    scored = [(doc, float(score)) for doc, score in zip(docs, scores)]\n",
    "    scored.sort(key=lambda x: x[1], reverse=True)\n",
    "    return scored[:top_k]"
   ]
  },
  {
   "cell_type": "code",
   "execution_count": 69,
   "id": "285c43bd",
   "metadata": {},
   "outputs": [],
   "source": [
    "def search_ibc(query: str, top_k: int = 10, rerank_k: int = 5, use_rerank: bool = True):\n",
    "    results = collection.query(query_texts=[query], n_results=top_k)\n",
    "    \n",
    "    docs = results[\"documents\"][0]\n",
    "    metas = results[\"metadatas\"][0]\n",
    "    ids = results[\"ids\"][0]\n",
    "    distances = results.get(\"distances\", [[None]*top_k])[0]\n",
    "\n",
    "    raw_results = []\n",
    "    for doc, meta, id_, dist in zip(docs, metas, ids, distances):\n",
    "        index = meta.get(\"index\", \"unknown\")\n",
    "        raw_results.append({\n",
    "            \"text\": doc,\n",
    "            \"index\": index,\n",
    "            \"score\": 1 - dist if dist is not None else None\n",
    "        })\n",
    "\n",
    "    if use_rerank:\n",
    "        reranked = rerank(query, [r[\"text\"] for r in raw_results], top_k=rerank_k)\n",
    "        final_results = []\n",
    "        for doc, score in reranked:\n",
    "            for r in raw_results:\n",
    "                if r[\"text\"] == doc:\n",
    "                    final_results.append({\n",
    "                        \"text\": doc,\n",
    "                        \"index\": r[\"index\"],\n",
    "                        \"score\": score\n",
    "                    })\n",
    "                    break\n",
    "        return final_results\n",
    "    else:\n",
    "        return raw_results[:rerank_k]"
   ]
  },
  {
   "cell_type": "code",
   "execution_count": 70,
   "id": "340c08d3",
   "metadata": {},
   "outputs": [
    {
     "name": "stdout",
     "output_type": "stream",
     "text": [
      "§[F]1012.1009.3 | score=6.124\n",
      "1012.1009.3 Stairways. In order to be considered part of an accesno spacesible means of egress, a stairway between stories shall comno spaceply with Sections 1009.3.1 through 1009.3.3.1009.3.1 Exit acess stairways. Exit access stairways that connect levels in the same story are not permitted as part ...\n",
      "\n",
      "§[F]1029.16.3_7 | score=4.517\n",
      "In Group F occupancies where exit access stairways serve fewer than three stories and such stairways are not open to the public, and where the top of the guard also serves as a handrail, the top of the guard shall be not less than 34 inches (864 mm) and not more than 38 inches (965 mm) measured vert ...\n",
      "\n",
      "§[F]903.3.1.1_1_dup_dup_dup_dup_dup_dup | score=3.861\n",
      "903.3.1.1 or 903.3.1.2, or separated from the egress path in accordance with the requireno spacements for the enclosure of interior exit stairno spaceways or ramps.1.4. Where a required interior exit stairway or ramp and an exit access stairway or ramp serve the same floor level and terminate at the ...\n",
      "\n",
      "§[F]5.2.1_3 | score=3.615\n",
      "Exceptions: 1. Stairways serving an occupant load of less than 50 shall have a width of not less than 36 inches (914 mm).2. Spiral stairways as provided for in Section 1011.10.3. Where an incline platform lift or stairway chairlift is installed on stairways serving occupancies in Group R-3, or withi ...\n",
      "\n",
      "§[F]408.6.2_4 | score=3.316\n",
      "Exception: Exterior exit stairways and ramps serving individual dwelling units of Group R-3 shall have a minino spacemum fire separation distance of 5 feet (1525 mm).1027.6 Exterior exit stairway and ramp protection. Exteno spacerior exit stairways and ramps shall be separated from the interior of t ...\n",
      "\n"
     ]
    }
   ],
   "source": [
    "results = search_ibc(\"width of exit stair\", top_k=20, rerank_k=5, use_rerank=True)\n",
    "\n",
    "for res in results:\n",
    "    print(f\"§{res['index']} | score={res['score']:.3f}\")\n",
    "    print(res['text'][:300], '...\\n')"
   ]
  },
  {
   "cell_type": "code",
   "execution_count": 71,
   "id": "14aee6d7",
   "metadata": {},
   "outputs": [],
   "source": [
    "def generate_ibc_answer_gpt4(query: str, top_k: int = 5):\n",
    "    results = search_ibc(query, top_k=top_k, rerank_k=top_k, use_rerank=True)\n",
    "    context = \"\"\n",
    "    for r in results:\n",
    "        context += f\"(§{r['index']}) {r['text']}\\n\\n\"\n",
    "\n",
    "    prompt = f\"\"\"\n",
    "You are an expert assistant answering questions about the International Building Code (IBC). \n",
    "Use only the provided context to answer precisely and clearly.\n",
    "\n",
    "Context:\n",
    "{context}\n",
    "\n",
    "Question:\n",
    "{query}\n",
    "\n",
    "Answer clearly in natural language. Use complete sentences and cite sections (e.g., \"according to §A1012\") when possible.\n",
    "\"\"\"\n",
    "\n",
    "    response = openai.ChatCompletion.create(\n",
    "        model=\"gpt-4\",\n",
    "        messages=[\n",
    "            {\"role\": \"system\", \"content\": \"You are a helpful assistant knowledgeable in architectural codes.\"},\n",
    "            {\"role\": \"user\", \"content\": prompt}\n",
    "        ],\n",
    "        temperature=0.2,\n",
    "        max_tokens=600\n",
    "    )\n",
    "\n",
    "    return response[\"choices\"][0][\"message\"][\"content\"].strip()"
   ]
  },
  {
   "cell_type": "code",
   "execution_count": 78,
   "id": "b772f68e",
   "metadata": {},
   "outputs": [
    {
     "data": {
      "text/markdown": [
       "The width of the stairway depends on the specific circumstances. According to §[F]5.2.1_3, stairways serving an occupant load of less than 50 should have a width of not less than 36 inches (914 mm). However, if an incline platform lift or stairway chairlift is installed on stairways serving occupancies in Group R-3, or within dwelling units in occupancies in Group R-2, a clear passage width not less than 20 inches (508 mm) should be provided. \n",
       "\n",
       "In the case of stairways being part of an accessible means of egress, they should have a clear width of 48 inches (1219 mm) minimum between handrails as per §[F]1012.1009.3. However, this requirement is not necessary in buildings equipped with an automatic sprinkler system installed in accordance with Section 903.3.1.1.\n",
       "\n",
       "For spiral stairways, as per §[F]1011.10.1011.6_5, the minimum stairway clear width at and below the handrail should be 26 inches (660 mm). \n",
       "\n",
       "Lastly, according to §[F]903.3.1.1_1_dup_dup_dup_dup, stairways that are part of the means of egress for the exterior area for assisted rescue should provide a minimum clear width of 48 inches (1220 mm) between handrails, unless the building is equipped with an automatic sprinkler system installed in accordance with Section 903.3.1.1 or 903.3.1.2."
      ],
      "text/plain": [
       "<IPython.core.display.Markdown object>"
      ]
     },
     "metadata": {},
     "output_type": "display_data"
    }
   ],
   "source": [
    "answer = generate_ibc_answer_gpt4(\"width of stairway\", top_k=5)\n",
    "display(Markdown(answer))"
   ]
  },
  {
   "cell_type": "code",
   "execution_count": 73,
   "id": "91184be2",
   "metadata": {},
   "outputs": [
    {
     "data": {
      "text/markdown": [
       "The width of an apartment door, as per the International Building Code, depends on the specific requirements of the unit. If the apartment is in Group I-2 and the door is used for the movement of beds, it should provide a minimum clear opening width of 41 1/2 inches (1054 mm) as per §[F]903.3.1.1_7_dup. \n",
       "\n",
       "If the apartment is not required to be an Accessible, Type A, or Type B unit, the minimum clear opening widths do not apply to interior egress doors as per §[F]1010.1.4.2_1. \n",
       "\n",
       "However, door openings required to be accessible within Type B units intended for user passage should have a minimum clear opening width of 31.75 inches (806 mm) as per the same section. \n",
       "\n",
       "In Group I-3, door openings to resident sleeping units that are not required to be an Accessible unit should have a minimum clear opening width of 28 inches (711 mm) as per §[F]903.3.1.1_8_dup. \n",
       "\n",
       "Please note that these are the minimum requirements and the actual door width can be larger based on the design and functional requirements of the apartment."
      ],
      "text/plain": [
       "<IPython.core.display.Markdown object>"
      ]
     },
     "metadata": {},
     "output_type": "display_data"
    }
   ],
   "source": [
    "answer = generate_ibc_answer_gpt4(\"width of apartment door\", top_k=5)\n",
    "display(Markdown(answer))"
   ]
  },
  {
   "cell_type": "code",
   "execution_count": null,
   "id": "39088d62",
   "metadata": {},
   "outputs": [],
   "source": []
  }
 ],
 "metadata": {
  "kernelspec": {
   "display_name": ".venv",
   "language": "python",
   "name": "python3"
  },
  "language_info": {
   "codemirror_mode": {
    "name": "ipython",
    "version": 3
   },
   "file_extension": ".py",
   "mimetype": "text/x-python",
   "name": "python",
   "nbconvert_exporter": "python",
   "pygments_lexer": "ipython3",
   "version": "3.10.8"
  }
 },
 "nbformat": 4,
 "nbformat_minor": 5
}
